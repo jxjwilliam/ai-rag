{
 "cells": [
  {
   "cell_type": "code",
   "execution_count": 1,
   "metadata": {},
   "outputs": [],
   "source": [
    "from langchain_community.document_loaders import PyPDFLoader"
   ]
  },
  {
   "cell_type": "code",
   "execution_count": 2,
   "metadata": {},
   "outputs": [],
   "source": [
    "loader = PyPDFLoader('../data/user-guide/Collection Manager User Guide.pdf')"
   ]
  },
  {
   "cell_type": "code",
   "execution_count": 3,
   "metadata": {},
   "outputs": [],
   "source": [
    "pages = loader.load_and_split()"
   ]
  },
  {
   "cell_type": "code",
   "execution_count": 4,
   "metadata": {},
   "outputs": [
    {
     "data": {
      "text/plain": [
       "[Document(page_content='Collection Manager User Guide v 1.0\\nXperi Machine Learning Program\\nExported on 05/09/2024', metadata={'source': '../data/user-guide/Collection Manager User Guide.pdf', 'page': 0}),\n",
       " Document(page_content='Xperi Machine Learning Program – Collection Manager User Guide v 1.0\\n2Table of Contents\\n1 Table of Content ............................................................................................... 7\\n2 Concepts ........................................................................................................... 8\\n2.1 Introduction to the Collection Manager ........................................................... 8\\n2.2 The Collection Manager Entities ...................................................................... 8\\n2.2.1 The Collection Entity. ........................................................................................ 8\\n2.2.2 The Collection Version Entity. .......................................................................... 9\\n2.2.3 The Association Entity. ..................................................................................... 9\\n2.2.4 The Asset Entity. ............................................................................................... 9\\n2.2.5 The Asset Version Entity. ................................................................................. 9\\n2.2.5.1 The User AssetVersion metadata: ................................................................. 10\\n2.2.5.2 The Asset Training/Content metadata: ......................................................... 10\\n2.2.6 The Jobs Entity ............................................................................................... 10\\n2.2.7 The SubJobs Entity ......................................................................................... 10\\n2.3 The Collection and Asset Versioning Concept. ............................................ 10\\n2.3.1 Collection Version and how it works. ............................................................ 10\\n2.3.1.1 Collections Life Cycle. .................................................................................... 11\\n2.3.2 Asset Version and how it works. .................................................................... 13\\n2.3.2.1 Asset Metadata ............................................................................................... 14\\n2.3.2.2 How Asset Versions Works. ........................................................................... 15\\n2.4 Collection Manager De-Duplication. .............................................................. 15\\n2.4.1 The de-duplication algorithm. ........................................................................ 15\\n2.5 The Collection Manager Analytic System ..................................................... 16\\n2.5.1 How does the Collection Manager Analytic System works. ........................ 16\\n2.5.1.1 Tokenization Pipeline. .................................................................................... 16\\n2.5.1.2 The Analytic System Web UI. ......................................................................... 18\\n3 Collection Manager Web User Interface. ....................................................... 19\\n3.1 Authentication ................................................................................................. 19', metadata={'source': '../data/user-guide/Collection Manager User Guide.pdf', 'page': 1}),\n",
       " Document(page_content='Xperi Machine Learning Program – Collection Manager User Guide v 1.0\\n33.1.1 Login Page. ...................................................................................................... 19\\n3.1.2 Logout. ............................................................................................................. 19\\n3.2 Collections Page ............................................................................................. 20\\n3.2.1 List collections. ............................................................................................... 20\\n3.2.2 Add Collection. ................................................................................................ 21\\n3.2.3 Attach Assets. ................................................................................................. 22\\n3.2.4 Update Collection. ........................................................................................... 24\\n3.2.5 Delete Collection. ............................................................................................ 25\\n3.2.6 Search Collections. ......................................................................................... 26\\n3.3 Assets Page .................................................................................................... 27\\n3.3.1 List Assets. ...................................................................................................... 27\\n3.3.2 Add Asset. ....................................................................................................... 28\\n3.3.3 Attach Collections. .......................................................................................... 30\\n3.3.4 Metadata Show. .............................................................................................. 32\\n3.3.5 Search Assets. ................................................................................................ 33\\n3.4 Jobs Page ........................................................................................................ 33\\n3.4.1 Jobs List. ......................................................................................................... 33\\n3.4.2 SubJobs List. ................................................................................................... 34\\n3.5 Search Feature ................................................................................................ 34\\n3.5.1 Collections Advanced Search. ....................................................................... 35\\n3.5.2 Assets Advanced Search. ............................................................................... 35\\n3.6 Home Page ...................................................................................................... 35\\n3.7 Reports Page ................................................................................................... 36\\n4 Collection Manager Python Client. ................................................................ 37\\n4.1 Quickstart. ....................................................................................................... 37\\n4.1.1 Setup and Installation. .................................................................................... 37\\n4.1.1.1 Sample Jupyter Notebooks ............................................................................ 37\\n4.1.1.2 Released Versions .......................................................................................... 37\\n4.2 Security. ........................................................................................................... 38', metadata={'source': '../data/user-guide/Collection Manager User Guide.pdf', 'page': 2})]"
      ]
     },
     "execution_count": 4,
     "metadata": {},
     "output_type": "execute_result"
    }
   ],
   "source": [
    "pages[:3]"
   ]
  },
  {
   "cell_type": "code",
   "execution_count": 5,
   "metadata": {},
   "outputs": [
    {
     "name": "stdout",
     "output_type": "stream",
     "text": [
      "{'source': '../data/user-guide/Collection Manager User Guide.pdf', 'page': 0}\n",
      "{'source': '../data/user-guide/Collection Manager User Guide.pdf', 'page': 1}\n",
      "{'source': '../data/user-guide/Collection Manager User Guide.pdf', 'page': 2}\n"
     ]
    }
   ],
   "source": [
    "for i in range(3):\n",
    "    print(pages[i].metadata)"
   ]
  },
  {
   "cell_type": "markdown",
   "metadata": {},
   "source": [
    "since each page is still quite long, we would break the pages into smaller pieces.\n",
    "we give a bit of overlap so that no meaningful sentence is lost."
   ]
  },
  {
   "cell_type": "code",
   "execution_count": 6,
   "metadata": {},
   "outputs": [],
   "source": [
    "from langchain.text_splitter import RecursiveCharacterTextSplitter\n",
    "\n",
    "text_splitter = RecursiveCharacterTextSplitter(chunk_size=1000, chunk_overlap=20)\n",
    "\n",
    "documents = text_splitter.split_documents(pages)"
   ]
  },
  {
   "cell_type": "code",
   "execution_count": 7,
   "metadata": {},
   "outputs": [
    {
     "name": "stdout",
     "output_type": "stream",
     "text": [
      "75 vs 133\n"
     ]
    }
   ],
   "source": [
    "print(f\"{len(pages)} vs {len(documents)}\")"
   ]
  },
  {
   "cell_type": "code",
   "execution_count": 46,
   "metadata": {},
   "outputs": [],
   "source": [
    "import os\n",
    "from dotenv import load_dotenv\n",
    "load_dotenv(\".env\")\n",
    "openai_api_key = os.getenv(\"OPENAI_API_KEY\")"
   ]
  },
  {
   "cell_type": "code",
   "execution_count": 9,
   "metadata": {},
   "outputs": [],
   "source": [
    "from langchain_openai import OpenAIEmbeddings\n",
    "\n",
    "embeddings = OpenAIEmbeddings(openai_api_key=openai_api_key)"
   ]
  },
  {
   "cell_type": "code",
   "execution_count": 10,
   "metadata": {},
   "outputs": [],
   "source": [
    "from langchain_community.vectorstores import Chroma\n",
    "\n",
    "vector = Chroma.from_documents(documents, embeddings)"
   ]
  },
  {
   "cell_type": "code",
   "execution_count": 12,
   "metadata": {},
   "outputs": [],
   "source": [
    "from langchain_openai import ChatOpenAI\n",
    "\n",
    "llm = ChatOpenAI(openai_api_key=openai_api_key)"
   ]
  },
  {
   "cell_type": "code",
   "execution_count": 13,
   "metadata": {},
   "outputs": [],
   "source": [
    "from langchain_core.output_parsers import StrOutputParser\n",
    "\n",
    "output_parser = StrOutputParser()"
   ]
  },
  {
   "cell_type": "code",
   "execution_count": 14,
   "metadata": {},
   "outputs": [],
   "source": [
    "retriever = vector.as_retriever()"
   ]
  },
  {
   "cell_type": "markdown",
   "metadata": {},
   "source": [
    "### User's followup question => LLM => reformulated question (with history)"
   ]
  },
  {
   "cell_type": "code",
   "execution_count": 17,
   "metadata": {},
   "outputs": [],
   "source": [
    "from langchain_core.prompts import ChatPromptTemplate, MessagesPlaceholder\n",
    "\n",
    "instruction_to_system = \"\"\"\n",
    "Given a chat history and the latest user question which might refeence context in the chat history, formulate a standalone\n",
    "question which can be understood without the chat history. Do NOT answer the question, just formulate it.\n",
    "\"\"\"\n",
    "\n",
    "question_maker_prompt = ChatPromptTemplate.from_messages(\n",
    "  [\n",
    "    (\"system\", instruction_to_system),\n",
    "    MessagesPlaceholder(variable_name=\"chat_history\"),\n",
    "    (\"human\", \"{question}\"),\n",
    "  ]\n",
    ")\n",
    "\n",
    "question_chain = question_maker_prompt | llm | StrOutputParser()"
   ]
  },
  {
   "cell_type": "markdown",
   "metadata": {},
   "source": [
    "chain = ({ \"context\": itemgetter(\"question\") | retriever, \"question\": itemgetter(\"question\") } | prompt | model | parser)  \n",
    "\n",
    "chain.invoke({\"question\": \"...\"}) -> {\"response\": \"...\", \"context\": \"...\"}"
   ]
  },
  {
   "cell_type": "code",
   "execution_count": 20,
   "metadata": {},
   "outputs": [
    {
     "data": {
      "text/plain": [
       "'Can you provide more context or specify which collection manager you are referring to?'"
      ]
     },
     "execution_count": 20,
     "metadata": {},
     "output_type": "execute_result"
    }
   ],
   "source": [
    "from langchain_core.messages import AIMessage, HumanMessage\n",
    "\n",
    "question_chain.invoke({\n",
    "  \"question\": \"What is the Collection Manager?\",\n",
    "  \"chat_history\": [HumanMessage(content=\"What is the Collection Manager?\")\n",
    "]})\n"
   ]
  },
  {
   "cell_type": "code",
   "execution_count": 24,
   "metadata": {},
   "outputs": [],
   "source": [
    "qa_sytem_prompt = \"\"\"\n",
    "You are an assistent helping a user with the Collection Manager. The user has asked a question about the Collection Manager.\\\n",
    "If you don't know the answer, you can ask the user for more information.\\\n",
    "\n",
    "{context}\n",
    "\"\"\"\n",
    "\n",
    "qa_prompt = ChatPromptTemplate.from_messages(\n",
    "  [\n",
    "    (\"system\", qa_sytem_prompt),\n",
    "    MessagesPlaceholder(variable_name=\"chat_history\"),\n",
    "    (\"human\", \"{question}\"),\n",
    "  ]\n",
    ")"
   ]
  },
  {
   "cell_type": "code",
   "execution_count": 25,
   "metadata": {},
   "outputs": [],
   "source": [
    "def contextualized_question(input: dict):\n",
    "  if input.get(\"chat_history\"):\n",
    "    return question_chain\n",
    "  else:\n",
    "    return input[\"question\"]"
   ]
  },
  {
   "cell_type": "code",
   "execution_count": 29,
   "metadata": {},
   "outputs": [],
   "source": [
    "def format_docs(docs):\n",
    "  return \"\\n\".join([f\"Document {i}: {doc.metadata['title']}\" for i, doc in enumerate(docs)])"
   ]
  },
  {
   "cell_type": "code",
   "execution_count": 30,
   "metadata": {},
   "outputs": [],
   "source": [
    "from langchain_core.runnables import RunnablePassthrough\n",
    "\n",
    "retriever_chain = RunnablePassthrough.assign(context=contextualized_question | retriever)"
   ]
  },
  {
   "cell_type": "code",
   "execution_count": 31,
   "metadata": {},
   "outputs": [
    {
     "data": {
      "text/plain": [
       "{'chat_history': [HumanMessage(content='What is the Collection Manager?')],\n",
       " 'question': 'can you explain more about the Collection Manager?',\n",
       " 'context': [Document(page_content='Xperi Machine Learning Program – Collection Manager User Guide v 1.0\\n\\xa0– 6Purpose\\nThis space contains the user guide of the Collection Manager, it contains topics related to how to use \\nthe Collection Manager and important concepts.\\npage status :\\xa0 DRAFT', metadata={'page': 5, 'source': '../data/user-guide/Collection Manager User Guide.pdf'}),\n",
       "  Document(page_content='Xperi Machine Learning Program – Collection Manager User Guide v 1.0\\n\\xa0Collection Manager Web User Interface. \\xa0– 20Clicking the right-top icon to open dropdown list menu:\\n3.2 Collections Page\\n3.2.1 List collections.\\nThe collections page will show collections, with pagination, sortable, searchable feature:', metadata={'page': 19, 'source': '../data/user-guide/Collection Manager User Guide.pdf'}),\n",
       "  Document(page_content='Xperi Machine Learning Program – Collection Manager User Guide v 1.0\\n2Table of Contents\\n1 Table of Content ............................................................................................... 7\\n2 Concepts ........................................................................................................... 8\\n2.1 Introduction to the Collection Manager ........................................................... 8\\n2.2 The Collection Manager Entities ...................................................................... 8\\n2.2.1 The Collection Entity. ........................................................................................ 8\\n2.2.2 The Collection Version Entity. .......................................................................... 9\\n2.2.3 The Association Entity. ..................................................................................... 9', metadata={'page': 1, 'source': '../data/user-guide/Collection Manager User Guide.pdf'}),\n",
       "  Document(page_content='Xperi Machine Learning Program – Collection Manager User Guide v 1.0\\n\\xa0Collection Manager Web User Interface. \\xa0– 29', metadata={'page': 28, 'source': '../data/user-guide/Collection Manager User Guide.pdf'})]}"
      ]
     },
     "execution_count": 31,
     "metadata": {},
     "output_type": "execute_result"
    }
   ],
   "source": [
    "retriever_chain.invoke({\n",
    "  \"chat_history\": [HumanMessage(content=\"What is the Collection Manager?\")],\n",
    "  \"question\": \"can you explain more about the Collection Manager?\"\n",
    "})"
   ]
  },
  {
   "cell_type": "code",
   "execution_count": 37,
   "metadata": {},
   "outputs": [],
   "source": [
    "rag_chain = (\n",
    "  retriever_chain\n",
    "  | qa_prompt\n",
    "  | llm\n",
    "  # | output_parser\n",
    ")"
   ]
  },
  {
   "cell_type": "code",
   "execution_count": 38,
   "metadata": {},
   "outputs": [],
   "source": [
    "question = \"what is the Collection Manager, and how to use it?\""
   ]
  },
  {
   "cell_type": "code",
   "execution_count": 39,
   "metadata": {},
   "outputs": [
    {
     "data": {
      "text/plain": [
       "AIMessage(content='The Collection Manager is a tool within the Xperi Machine Learning Program that allows users to manage collections of data. It helps users organize and categorize their data sets for easier access and analysis.\\n\\nTo use the Collection Manager, you can follow these steps based on the information provided in the user guide:\\n\\n1. Open the Collection Manager Web User Interface.\\n2. Click on the right-top icon to open the dropdown list menu.\\n3. Navigate to the Collections page to list collections.\\n4. On the Collections page, you can view collections with pagination, sortable, and searchable features.\\n5. To search for a specific collection, select the search criteria and then submit the search.\\n\\nIf you need more detailed instructions or specific information about a certain feature of the Collection Manager, please let me know!', response_metadata={'token_usage': {'completion_tokens': 157, 'prompt_tokens': 369, 'total_tokens': 526}, 'model_name': 'gpt-3.5-turbo', 'system_fingerprint': None, 'finish_reason': 'stop', 'logprobs': None}, id='run-5684ab5a-817c-41d1-ac05-e02fcd105282-0', usage_metadata={'input_tokens': 369, 'output_tokens': 157, 'total_tokens': 526})"
      ]
     },
     "execution_count": 39,
     "metadata": {},
     "output_type": "execute_result"
    }
   ],
   "source": [
    "chat_history = []\n",
    "\n",
    "ai_msg = rag_chain.invoke({\"question\": question, \"chat_history\": chat_history})\n",
    "chat_history.extend([HumanMessage(content=question), ai_msg])\n",
    "ai_msg"
   ]
  },
  {
   "cell_type": "code",
   "execution_count": 40,
   "metadata": {},
   "outputs": [
    {
     "name": "stdout",
     "output_type": "stream",
     "text": [
      "The Collection Manager is a tool within the Xperi Machine Learning Program that allows users to manage collections of data. It helps users organize and categorize their data sets for easier access and analysis.\n",
      "\n",
      "To use the Collection Manager, you can follow these steps based on the information provided in the user guide:\n",
      "\n",
      "1. Open the Collection Manager Web User Interface.\n",
      "2. Click on the right-top icon to open the dropdown list menu.\n",
      "3. Navigate to the Collections page to list collections.\n",
      "4. On the Collections page, you can view collections with pagination, sortable, and searchable features.\n",
      "5. To search for a specific collection, select the search criteria and then submit the search.\n",
      "\n",
      "If you need more detailed instructions or specific information about a certain feature of the Collection Manager, please let me know!\n"
     ]
    }
   ],
   "source": [
    "print(ai_msg.content)"
   ]
  },
  {
   "cell_type": "code",
   "execution_count": 42,
   "metadata": {},
   "outputs": [
    {
     "data": {
      "text/plain": [
       "AIMessage(content='To provide you with more detailed information about the Collection Manager, could you please specify which aspects or functionalities of the Collection Manager you are interested in learning more about? This will help me tailor the explanation to address your specific questions or requirements more effectively.', response_metadata={'token_usage': {'completion_tokens': 49, 'prompt_tokens': 819, 'total_tokens': 868}, 'model_name': 'gpt-3.5-turbo', 'system_fingerprint': None, 'finish_reason': 'stop', 'logprobs': None}, id='run-aa3304c7-cacb-46f8-8086-0b4a3700e8fa-0', usage_metadata={'input_tokens': 819, 'output_tokens': 49, 'total_tokens': 868})"
      ]
     },
     "execution_count": 42,
     "metadata": {},
     "output_type": "execute_result"
    }
   ],
   "source": [
    "question = \"Can you explain more about the Collection Manager more?\"\n",
    "\n",
    "ai_msg = rag_chain.invoke({\"question\": question, \"chat_history\": chat_history})\n",
    "chat_history.extend([HumanMessage(content=question), ai_msg])\n",
    "ai_msg"
   ]
  },
  {
   "cell_type": "code",
   "execution_count": 44,
   "metadata": {},
   "outputs": [
    {
     "name": "stdout",
     "output_type": "stream",
     "text": [
      "To provide you with more detailed information about the Collection Manager, could you please specify which aspects or functionalities of the Collection Manager you are interested in learning more about? This will help me tailor the explanation to address your specific questions or requirements more effectively.\n"
     ]
    }
   ],
   "source": [
    "print(ai_msg.content)"
   ]
  }
 ],
 "metadata": {
  "kernelspec": {
   "display_name": "venv",
   "language": "python",
   "name": "python3"
  },
  "language_info": {
   "codemirror_mode": {
    "name": "ipython",
    "version": 3
   },
   "file_extension": ".py",
   "mimetype": "text/x-python",
   "name": "python",
   "nbconvert_exporter": "python",
   "pygments_lexer": "ipython3",
   "version": "3.11.5"
  }
 },
 "nbformat": 4,
 "nbformat_minor": 2
}
